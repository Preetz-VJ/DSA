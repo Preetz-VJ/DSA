{
 "cells": [
  {
   "cell_type": "code",
   "execution_count": 2,
   "metadata": {},
   "outputs": [
    {
     "name": "stdout",
     "output_type": "stream",
     "text": [
      "enter val1:3\n",
      "enter val2:4\n",
      "81\n"
     ]
    }
   ],
   "source": [
    "x=int(input('enter val1:'))\n",
    "y=int(input('enter val2:'))\n",
    "print(x**y)"
   ]
  },
  {
   "cell_type": "code",
   "execution_count": 19,
   "metadata": {},
   "outputs": [
    {
     "name": "stdout",
     "output_type": "stream",
     "text": [
      "enter the values:3 4 5 6 7 89 12 32\n",
      "[3, 4, 5, 6, 7, 89, 12, 32]\n",
      "3  6  12  "
     ]
    }
   ],
   "source": [
    "x=input(\"enter the values:\").split()\n",
    "vals=[]\n",
    "for i in x:\n",
    "    vals.append(int(i))\n",
    "print(vals)\n",
    "for i in vals:\n",
    "    if i % 3 == 0:\n",
    "        print(i, end='  ')\n"
   ]
  },
  {
   "cell_type": "code",
   "execution_count": null,
   "metadata": {},
   "outputs": [],
   "source": []
  }
 ],
 "metadata": {
  "kernelspec": {
   "display_name": "Python 3",
   "language": "python",
   "name": "python3"
  },
  "language_info": {
   "codemirror_mode": {
    "name": "ipython",
    "version": 3
   },
   "file_extension": ".py",
   "mimetype": "text/x-python",
   "name": "python",
   "nbconvert_exporter": "python",
   "pygments_lexer": "ipython3",
   "version": "3.7.6"
  }
 },
 "nbformat": 4,
 "nbformat_minor": 4
}
